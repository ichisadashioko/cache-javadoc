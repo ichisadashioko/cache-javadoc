{
	"cells": [
		{
			"cell_type": "code",
			"execution_count": 2,
			"id": "narrative-honey",
			"metadata": {},
			"outputs": [],
			"source": [
				"import os\n",
				"import io\n",
				"import time\n",
				"import posixpath\n",
				"import urllib\n",
				"import urllib.parse"
			]
		},
		{
			"cell_type": "code",
			"execution_count": 3,
			"id": "olive-approval",
			"metadata": {},
			"outputs": [
				{
					"name": "stdout",
					"output_type": "stream",
					"text": [
						"Using cache directory from environment variable cacherequests_cache_dir\n"
					]
				}
			],
			"source": [
				"import cacherequests"
			]
		},
		{
			"cell_type": "code",
			"execution_count": 4,
			"id": "authentic-stopping",
			"metadata": {},
			"outputs": [
				{
					"data": {
						"text/plain": [
							"1"
						]
					},
					"execution_count": 4,
					"metadata": {},
					"output_type": "execute_result"
				}
			],
			"source": [
				"url_list_input_str = '''\n",
				"https://docs.oracle.com/javame/config/cldc/ref-impl/midp2.0/jsr118/index.html\n",
				"'''\n",
				"\n",
				"lines = url_list_input_str.splitlines()\n",
				"lines = map(lambda x: x.strip(), lines)\n",
				"lines = filter(lambda x: len(x) > 0, lines)\n",
				"lines = list(lines)\n",
				"url_list = lines\n",
				"len(url_list)"
			]
		},
		{
			"cell_type": "code",
			"execution_count": 5,
			"id": "russian-donna",
			"metadata": {},
			"outputs": [
				{
					"data": {
						"text/plain": [
							"['https://docs.oracle.com/javame/config/cldc/ref-impl/midp2.0/jsr118/index.html']"
						]
					},
					"execution_count": 5,
					"metadata": {},
					"output_type": "execute_result"
				}
			],
			"source": [
				"url_list"
			]
		},
		{
			"cell_type": "code",
			"execution_count": 7,
			"id": "spectacular-asian",
			"metadata": {},
			"outputs": [
				{
					"name": "stdout",
					"output_type": "stream",
					"text": [
						"log_filepath 1656405702167755700-url_list.txt\n"
					]
				},
				{
					"data": {
						"text/plain": [
							"78"
						]
					},
					"execution_count": 7,
					"metadata": {},
					"output_type": "execute_result"
				}
			],
			"source": [
				"log_filepath = f'{time.time_ns()}-url_list.txt'\n",
				"print('log_filepath', log_filepath)\n",
				"\n",
				"with open(log_filepath, 'wb') as outfile:\n",
				"    for url_str in url_list:\n",
				"        content_bs = url_str.encode('utf-8')\n",
				"        outfile.write(content_bs)\n",
				"        outfile.write(b'\\n')\n",
				"os.path.getsize(log_filepath)"
			]
		},
		{
			"cell_type": "code",
			"execution_count": 20,
			"id": "liquid-kansas",
			"metadata": {},
			"outputs": [
				{
					"data": {
						"text/plain": [
							"'https://docs.oracle.com/javame/config/cldc/ref-impl/midp2.0/jsr118/index.html'"
						]
					},
					"execution_count": 20,
					"metadata": {},
					"output_type": "execute_result"
				}
			],
			"source": [
				"current_url = url_list[0]\n",
				"current_url"
			]
		},
		{
			"cell_type": "code",
			"execution_count": 9,
			"id": "unsigned-video",
			"metadata": {},
			"outputs": [
				{
					"data": {
						"text/plain": [
							"dict"
						]
					},
					"execution_count": 9,
					"metadata": {},
					"output_type": "execute_result"
				}
			],
			"source": [
				"response_obj = cacherequests.wrap_requests(\n",
				"    url=current_url,\n",
				"    check_body_size=False,\n",
				")\n",
				"\n",
				"type(response_obj)"
			]
		},
		{
			"cell_type": "code",
			"execution_count": 10,
			"id": "monthly-bradley",
			"metadata": {},
			"outputs": [
				{
					"data": {
						"text/plain": [
							"dict_keys(['url', 'method', 'status_code', 'headers', 'content_bs'])"
						]
					},
					"execution_count": 10,
					"metadata": {},
					"output_type": "execute_result"
				}
			],
			"source": [
				"response_obj.keys()"
			]
		},
		{
			"cell_type": "code",
			"execution_count": 11,
			"id": "little-studio",
			"metadata": {},
			"outputs": [
				{
					"data": {
						"text/plain": [
							"{'Server': 'AkamaiNetStorage', 'Content-Type': 'text/html', 'ETag': '\"2432d6ba7460d0128bd03516f51e9c50:1411354788\"', 'Vary': 'Accept-Encoding', 'Content-Encoding': 'gzip', 'Cache-Control': 'max-age=20630', 'Date': 'Tue, 28 Jun 2022 08:46:25 GMT', 'Content-Length': '900', 'Connection': 'keep-alive'}"
						]
					},
					"execution_count": 11,
					"metadata": {},
					"output_type": "execute_result"
				}
			],
			"source": [
				"response_obj['headers']"
			]
		},
		{
			"cell_type": "code",
			"execution_count": 13,
			"id": "administrative-scottish",
			"metadata": {},
			"outputs": [
				{
					"data": {
						"text/plain": [
							"2044"
						]
					},
					"execution_count": 13,
					"metadata": {},
					"output_type": "execute_result"
				}
			],
			"source": [
				"len(response_obj['content_bs'])"
			]
		},
		{
			"cell_type": "code",
			"execution_count": 12,
			"id": "advisory-copper",
			"metadata": {},
			"outputs": [
				{
					"data": {
						"text/plain": [
							"b'<!DOCTYPE HTML PUBLIC \"-//W3C//DTD HTML 4.01 Frameset//EN\" \"http://www.w3.org/TR/html4/frameset.dtd\">\\r\\n<!--NewPage-->\\r\\n<HTML>\\r\\n<HEAD>\\r\\n<!-- Generated by javadoc on Thu Jan 08 08:09:22 GMT+02:00 2004-->\\r\\n<TITLE>\\r\\nMID Profile\\r\\n</TITLE><meta name=\"collection\" content=\"api\">\\r\\n<script>window.ohcglobal || document.write(\\'<script src=\"/en/dcommon/js/global.js\">\\\\x3C/script>\\')</script></HEAD>\\r\\n<FRAMESET cols=\"20%,80%\">\\r\\n<FRAMESET rows=\"30%,70%\">\\r\\n<FRAME src=\"overview-frame.html\" name=\"packageListFrame\" title=\"All Packages\">\\r\\n<FRAME src=\"allclasses-frame.html\" name=\"packageFrame\" title=\"All classes and interfaces (except non-static nested types)\">\\r\\n</FRAMESET>\\r\\n<FRAME src=\"overview-summary.html\" name=\"classFrame\" title=\"Package, class and interface descriptions\">\\r\\n<NOFRAMES>\\r\\n<H2>\\r\\nFrame Alert</H2>\\r\\n\\r\\n<P>\\r\\nThis document is designed to be viewed using the frames feature. If you see this message, you are using a non-frame-capable web client.\\r\\n<BR>\\r\\nLink to<A HREF=\"overview-summary.html\">Non-frame version.</A>\\r\\n</NOFRAMES>\\r\\n</FRAMESET>\\r\\n\\n\\r\\n\\n<noscript>A script enabled browser is required for this page to function properly.</noscript>\\n<noscript>A script enabled browser is required for this page to function properly.</noscript>\\n<noscript>A script enabled browser is required for this page to function properly.</noscript>\\n\\n\\n<!--Ending HTML relocated from here.-->\\n\\n<!-- Start SiteCatalyst code   -->\\n<script language=\"JavaScript\" src=\"http://www.oracle.com/ocom/groups/systemobject/@mktg_admin/documents/systemobject/s_code_download.js\"></script>\\n<script language=\"JavaScript\" src=\"http://www.oracle.com/ocom/groups/systemobject/@mktg_admin/documents/systemobject/s_code.js\"></script>\\n<!-- ********** DO NOT ALTER ANYTHING BELOW THIS LINE ! *********** -->\\n<!--  Below code will send the info to Omniture server -->\\n<script language=\"javascript\">var s_code=s.t();if(s_code)document.write(s_code)</script>\\n<!-- End SiteCatalyst code --> \\n<noscript>A script enabled browser is required for this page to function properly.</noscript>\\n\\n</html>\\n'"
						]
					},
					"execution_count": 12,
					"metadata": {},
					"output_type": "execute_result"
				}
			],
			"source": [
				"response_obj['content_bs']"
			]
		},
		{
			"cell_type": "code",
			"execution_count": 14,
			"id": "blessed-expression",
			"metadata": {},
			"outputs": [],
			"source": [
				"import bs4"
			]
		},
		{
			"cell_type": "code",
			"execution_count": 15,
			"id": "empty-michigan",
			"metadata": {},
			"outputs": [
				{
					"data": {
						"text/plain": [
							"2044"
						]
					},
					"execution_count": 15,
					"metadata": {},
					"output_type": "execute_result"
				}
			],
			"source": [
				"content_str = response_obj['content_bs'].decode('utf-8')\n",
				"len(content_str)"
			]
		},
		{
			"cell_type": "code",
			"execution_count": 16,
			"id": "chinese-variance",
			"metadata": {},
			"outputs": [
				{
					"data": {
						"text/plain": [
							"'<!DOCTYPE HTML PUBLIC \"-//W3C//DTD HTML 4.01 Frameset//EN\" \"http://www.w3.org/TR/html4/frameset.dtd\">\\r\\n<!--NewPage-->\\r\\n<HTML>\\r\\n<HEAD>\\r\\n<!-- Generated by javadoc on Thu Jan 08 08:09:22 GMT+02:00 2004-->\\r\\n<TITLE>\\r\\nMID Profile\\r\\n</TITLE><meta name=\"collection\" content=\"api\">\\r\\n<script>window.ohcglobal || document.write(\\'<script src=\"/en/dcommon/js/global.js\">\\\\x3C/script>\\')</script></HEAD>\\r\\n<FRAMESET cols=\"20%,80%\">\\r\\n<FRAMESET rows=\"30%,70%\">\\r\\n<FRAME src=\"overview-frame.html\" name=\"packageListFrame\" title=\"All Packages\">\\r\\n<FRAME src=\"allclasses-frame.html\" name=\"packageFrame\" title=\"All classes and interfaces (except non-static nested types)\">\\r\\n</FRAMESET>\\r\\n<FRAME src=\"overview-summary.html\" name=\"classFrame\" title=\"Package, class and interface descriptions\">\\r\\n<NOFRAMES>\\r\\n<H2>\\r\\nFrame Alert</H2>\\r\\n\\r\\n<P>\\r\\nThis document is designed to be viewed using the frames feature. If you see this message, you are using a non-frame-capable web client.\\r\\n<BR>\\r\\nLink to<A HREF=\"overview-summary.html\">Non-frame version.</A>\\r\\n</NOFRAMES>\\r\\n</FRAMESET>\\r\\n\\n\\r\\n\\n<noscript>A script enabled browser is required for this page to function properly.</noscript>\\n<noscript>A script enabled browser is required for this page to function properly.</noscript>\\n<noscript>A script enabled browser is required for this page to function properly.</noscript>\\n\\n\\n<!--Ending HTML relocated from here.-->\\n\\n<!-- Start SiteCatalyst code   -->\\n<script language=\"JavaScript\" src=\"http://www.oracle.com/ocom/groups/systemobject/@mktg_admin/documents/systemobject/s_code_download.js\"></script>\\n<script language=\"JavaScript\" src=\"http://www.oracle.com/ocom/groups/systemobject/@mktg_admin/documents/systemobject/s_code.js\"></script>\\n<!-- ********** DO NOT ALTER ANYTHING BELOW THIS LINE ! *********** -->\\n<!--  Below code will send the info to Omniture server -->\\n<script language=\"javascript\">var s_code=s.t();if(s_code)document.write(s_code)</script>\\n<!-- End SiteCatalyst code --> \\n<noscript>A script enabled browser is required for this page to function properly.</noscript>\\n\\n</html>\\n'"
						]
					},
					"execution_count": 16,
					"metadata": {},
					"output_type": "execute_result"
				}
			],
			"source": [
				"content_str"
			]
		},
		{
			"cell_type": "code",
			"execution_count": 17,
			"id": "other-movie",
			"metadata": {},
			"outputs": [
				{
					"data": {
						"text/plain": [
							"bs4.BeautifulSoup"
						]
					},
					"execution_count": 17,
					"metadata": {},
					"output_type": "execute_result"
				}
			],
			"source": [
				"soup = bs4.BeautifulSoup(content_str)\n",
				"type(soup)"
			]
		},
		{
			"cell_type": "code",
			"execution_count": 18,
			"id": "bright-consent",
			"metadata": {},
			"outputs": [
				{
					"data": {
						"text/plain": [
							"<!DOCTYPE HTML PUBLIC \"-//W3C//DTD HTML 4.01 Frameset//EN\" \"http://www.w3.org/TR/html4/frameset.dtd\">\n",
							"\n",
							"<!--NewPage-->\n",
							"<html>\n",
							"<head>\n",
							"<!-- Generated by javadoc on Thu Jan 08 08:09:22 GMT+02:00 2004-->\n",
							"<title>\n",
							"MID Profile\n",
							"</title><meta content=\"api\" name=\"collection\"/>\n",
							"<script>window.ohcglobal || document.write('<script src=\"/en/dcommon/js/global.js\">\\x3C/script>')</script></head>\n",
							"<frameset cols=\"20%,80%\">\n",
							"<frameset rows=\"30%,70%\">\n",
							"<frame name=\"packageListFrame\" src=\"overview-frame.html\" title=\"All Packages\"/>\n",
							"<frame name=\"packageFrame\" src=\"allclasses-frame.html\" title=\"All classes and interfaces (except non-static nested types)\"/>\n",
							"</frameset>\n",
							"<frame name=\"classFrame\" src=\"overview-summary.html\" title=\"Package, class and interface descriptions\"/>\n",
							"<noframes>\n",
							"<h2>\n",
							"Frame Alert</h2>\n",
							"<p>\n",
							"This document is designed to be viewed using the frames feature. If you see this message, you are using a non-frame-capable web client.\n",
							"<br/>\n",
							"Link to<a href=\"overview-summary.html\">Non-frame version.</a>\n",
							"</p></noframes>\n",
							"</frameset>\n",
							"<noscript>A script enabled browser is required for this page to function properly.</noscript>\n",
							"<noscript>A script enabled browser is required for this page to function properly.</noscript>\n",
							"<noscript>A script enabled browser is required for this page to function properly.</noscript>\n",
							"<!--Ending HTML relocated from here.-->\n",
							"<!-- Start SiteCatalyst code   -->\n",
							"<script language=\"JavaScript\" src=\"http://www.oracle.com/ocom/groups/systemobject/@mktg_admin/documents/systemobject/s_code_download.js\"></script>\n",
							"<script language=\"JavaScript\" src=\"http://www.oracle.com/ocom/groups/systemobject/@mktg_admin/documents/systemobject/s_code.js\"></script>\n",
							"<!-- ********** DO NOT ALTER ANYTHING BELOW THIS LINE ! *********** -->\n",
							"<!--  Below code will send the info to Omniture server -->\n",
							"<script language=\"javascript\">var s_code=s.t();if(s_code)document.write(s_code)</script>\n",
							"<!-- End SiteCatalyst code -->\n",
							"<noscript>A script enabled browser is required for this page to function properly.</noscript>\n",
							"</html>"
						]
					},
					"execution_count": 18,
					"metadata": {},
					"output_type": "execute_result"
				}
			],
			"source": [
				"soup"
			]
		},
		{
			"cell_type": "code",
			"execution_count": 19,
			"id": "planned-acrobat",
			"metadata": {},
			"outputs": [
				{
					"data": {
						"text/plain": [
							"[<frame name=\"packageListFrame\" src=\"overview-frame.html\" title=\"All Packages\"/>,\n",
							" <frame name=\"packageFrame\" src=\"allclasses-frame.html\" title=\"All classes and interfaces (except non-static nested types)\"/>,\n",
							" <frame name=\"classFrame\" src=\"overview-summary.html\" title=\"Package, class and interface descriptions\"/>]"
						]
					},
					"execution_count": 19,
					"metadata": {},
					"output_type": "execute_result"
				}
			],
			"source": [
				"frame_element_list = soup.select('frame')\n",
				"frame_element_list"
			]
		},
		{
			"cell_type": "code",
			"execution_count": 21,
			"id": "aggregate-outline",
			"metadata": {},
			"outputs": [
				{
					"data": {
						"text/plain": [
							"['overview-frame.html', 'allclasses-frame.html', 'overview-summary.html']"
						]
					},
					"execution_count": 21,
					"metadata": {},
					"output_type": "execute_result"
				}
			],
			"source": [
				"frame_source_list = []\n",
				"for frame_element in frame_element_list:\n",
				"    try:\n",
				"        frame_source_list.append(frame_element.attrs['src'])\n",
				"    except Exception as ex:\n",
				"        print(ex)\n",
				"frame_source_list"
			]
		},
		{
			"cell_type": "code",
			"execution_count": 22,
			"id": "numerous-strand",
			"metadata": {},
			"outputs": [
				{
					"data": {
						"text/plain": [
							"'overview-frame.html'"
						]
					},
					"execution_count": 22,
					"metadata": {},
					"output_type": "execute_result"
				}
			],
			"source": [
				"frame_source = frame_source_list[0]\n",
				"frame_source"
			]
		},
		{
			"cell_type": "code",
			"execution_count": 24,
			"id": "reserved-birthday",
			"metadata": {},
			"outputs": [
				{
					"data": {
						"text/plain": [
							"'https://docs.oracle.com/javame/config/cldc/ref-impl/midp2.0/jsr118/overview-frame.html'"
						]
					},
					"execution_count": 24,
					"metadata": {},
					"output_type": "execute_result"
				}
			],
			"source": [
				"urllib.parse.urljoin(current_url, frame_source)"
			]
		},
		{
			"cell_type": "code",
			"execution_count": 25,
			"id": "beginning-norman",
			"metadata": {},
			"outputs": [
				{
					"data": {
						"text/plain": [
							"SplitResult(scheme='https', netloc='docs.oracle.com', path='/javame/config/cldc/ref-impl/midp2.0/jsr118/index.html', query='', fragment='')"
						]
					},
					"execution_count": 25,
					"metadata": {},
					"output_type": "execute_result"
				}
			],
			"source": [
				"urllib.parse.urlsplit(current_url)"
			]
		},
		{
			"cell_type": "code",
			"execution_count": 26,
			"id": "agreed-postcard",
			"metadata": {},
			"outputs": [
				{
					"data": {
						"text/plain": [
							"SplitResult(scheme='https', netloc='docs.oracle.com', path='/javame/config/cldc/ref-impl/midp2.0/jsr118/index.html', query='', fragment='')"
						]
					},
					"execution_count": 26,
					"metadata": {},
					"output_type": "execute_result"
				}
			],
			"source": [
				"split_result = urllib.parse.urlsplit(current_url)\n",
				"split_result"
			]
		},
		{
			"cell_type": "code",
			"execution_count": 27,
			"id": "oriented-salem",
			"metadata": {},
			"outputs": [
				{
					"ename": "ValueError",
					"evalue": "not enough values to unpack (expected 6, got 4)",
					"output_type": "error",
					"traceback": [
						"\u001b[1;31m---------------------------------------------------------------------------\u001b[0m",
						"\u001b[1;31mValueError\u001b[0m                                Traceback (most recent call last)",
						"\u001b[1;32m<ipython-input-27-428dc2c100be>\u001b[0m in \u001b[0;36m<module>\u001b[1;34m\u001b[0m\n\u001b[1;32m----> 1\u001b[1;33m \u001b[0murllib\u001b[0m\u001b[1;33m.\u001b[0m\u001b[0mparse\u001b[0m\u001b[1;33m.\u001b[0m\u001b[0murlunsplit\u001b[0m\u001b[1;33m(\u001b[0m\u001b[0msplit_result\u001b[0m\u001b[1;33m[\u001b[0m\u001b[1;33m:\u001b[0m\u001b[1;36m3\u001b[0m\u001b[1;33m]\u001b[0m\u001b[1;33m)\u001b[0m\u001b[1;33m\u001b[0m\u001b[1;33m\u001b[0m\u001b[0m\n\u001b[0m",
						"\u001b[1;32mc:\\programs\\python\\python37\\lib\\urllib\\parse.py\u001b[0m in \u001b[0;36murlunsplit\u001b[1;34m(components)\u001b[0m\n\u001b[0;32m    485\u001b[0m     empty query; the RFC states that these are equivalent).\"\"\"\n\u001b[0;32m    486\u001b[0m     scheme, netloc, url, query, fragment, _coerce_result = (\n\u001b[1;32m--> 487\u001b[1;33m                                           _coerce_args(*components))\n\u001b[0m\u001b[0;32m    488\u001b[0m     \u001b[1;32mif\u001b[0m \u001b[0mnetloc\u001b[0m \u001b[1;32mor\u001b[0m \u001b[1;33m(\u001b[0m\u001b[0mscheme\u001b[0m \u001b[1;32mand\u001b[0m \u001b[0mscheme\u001b[0m \u001b[1;32min\u001b[0m \u001b[0muses_netloc\u001b[0m \u001b[1;32mand\u001b[0m \u001b[0murl\u001b[0m\u001b[1;33m[\u001b[0m\u001b[1;33m:\u001b[0m\u001b[1;36m2\u001b[0m\u001b[1;33m]\u001b[0m \u001b[1;33m!=\u001b[0m \u001b[1;34m'//'\u001b[0m\u001b[1;33m)\u001b[0m\u001b[1;33m:\u001b[0m\u001b[1;33m\u001b[0m\u001b[1;33m\u001b[0m\u001b[0m\n\u001b[0;32m    489\u001b[0m         \u001b[1;32mif\u001b[0m \u001b[0murl\u001b[0m \u001b[1;32mand\u001b[0m \u001b[0murl\u001b[0m\u001b[1;33m[\u001b[0m\u001b[1;33m:\u001b[0m\u001b[1;36m1\u001b[0m\u001b[1;33m]\u001b[0m \u001b[1;33m!=\u001b[0m \u001b[1;34m'/'\u001b[0m\u001b[1;33m:\u001b[0m \u001b[0murl\u001b[0m \u001b[1;33m=\u001b[0m \u001b[1;34m'/'\u001b[0m \u001b[1;33m+\u001b[0m \u001b[0murl\u001b[0m\u001b[1;33m\u001b[0m\u001b[1;33m\u001b[0m\u001b[0m\n",
						"\u001b[1;31mValueError\u001b[0m: not enough values to unpack (expected 6, got 4)"
					]
				}
			],
			"source": [
				"urllib.parse.urlunsplit(split_result[:3])"
			]
		}
	],
	"metadata": {
		"kernelspec": {
			"display_name": "Python 3",
			"language": "python",
			"name": "python3"
		},
		"language_info": {
			"codemirror_mode": {
				"name": "ipython",
				"version": 3
			},
			"file_extension": ".py",
			"mimetype": "text/x-python",
			"name": "python",
			"nbconvert_exporter": "python",
			"pygments_lexer": "ipython3"
		}
	},
	"nbformat": 4,
	"nbformat_minor": 5
}
